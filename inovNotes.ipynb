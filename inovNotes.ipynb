{
 "cells": [
  {
   "cell_type": "markdown",
   "metadata": {},
   "source": [
    "# Amu Notes\n",
    "\n",
    "- use `tf-idf` for better topic prediction\n",
    "- Hybrid Rules & Data approach required"
   ]
  },
  {
   "cell_type": "markdown",
   "metadata": {},
   "source": [
    "## Cleaning \n",
    "\n",
    "`Tokenisation` -  breaking text into individual words.\n",
    "\n",
    "`Stemming` - chopping suffixes/prefixes off words.\n",
    "\n",
    "`Lemmatization` -   bring words down to their root forms\n",
    "\n",
    "`Regex` - text parsing & matching process.\n",
    "\n",
    "`Text Preprocessing` - All of the above , also cleaning, noise removal and normalisation.\n",
    "\n",
    "Response types\n",
    "chatbots can be categorized according to how they generate the response that gets returned to the user.\n",
    "\n",
    "\n",
    "## Classification - Response types\n",
    "\n",
    "chatbots can be categorized according to how they generate the response that gets returned to the user. \n",
    "\n",
    "`Rules based model` - Bots that work on a decision tree of question/answers.\n",
    "\n",
    "`Retrieval based model` - Bots that work on a store of premade responses.  \n",
    "`ML optimised retrieval-based model`, these can self learn, although the responses are still static, the selection of responses are intelligent  \n",
    "`generative chatbot` are capable of formulating their own original responses based on user input, rather than relying on existing text. This involves the use of deep learning, such as `LSTM-based` `seq2seq models`, to train the chatbots to be able to make decisions about what is an appropriate response to return.\n",
    "\n",
    "## NLP useful Libs\n",
    "- `NLTK` the most well known python NLP library\n",
    "- `spaCy` one of the fastest NLP libs\n",
    "- `sciKit Learn NLP toolkit` great documentation and tool variety \n",
    "\n",
    "## Leaders in the field \n",
    "\n",
    "- `Open AI` **GPT3** A Generative Pre-trained Transformer,  billions of parameters, very powerful. uses deep learning to produce human-like text.\n",
    "- `Deep Mind` **Gopher** massive language A.I. that approaches human-level reading comprehension\n",
    "- `google` **BERT** Bidirectional Encoder Representations from Transformers, very popular with academics\n",
    "\n",
    "## Types of NLP ML Models\n",
    "`N-Gram`  `RNN` `LSTM` `Seq2Seq` \n"
   ]
  },
  {
   "cell_type": "code",
   "execution_count": null,
   "metadata": {},
   "outputs": [],
   "source": []
  }
 ],
 "metadata": {
  "kernelspec": {
   "display_name": "Python 3",
   "language": "python",
   "name": "python3"
  },
  "language_info": {
   "codemirror_mode": {
    "name": "ipython",
    "version": 3
   },
   "file_extension": ".py",
   "mimetype": "text/x-python",
   "name": "python",
   "nbconvert_exporter": "python",
   "pygments_lexer": "ipython3",
   "version": "3.7.6"
  }
 },
 "nbformat": 4,
 "nbformat_minor": 4
}
